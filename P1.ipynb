{
 "cells": [
  {
   "cell_type": "markdown",
   "metadata": {},
   "source": [
    "# Self-Driving Car Engineer Nanodegree\n",
    "\n",
    "\n",
    "## Project: **Finding Lane Lines on the Road** \n",
    "***\n",
    "In this project, you will use the tools you learned about in the lesson to identify lane lines on the road.  You can develop your pipeline on a series of individual images, and later apply the result to a video stream (really just a series of images). Check out the video clip \"raw-lines-example.mp4\" (also contained in this repository) to see what the output should look like after using the helper functions below. \n",
    "\n",
    "Once you have a result that looks roughly like \"raw-lines-example.mp4\", you'll need to get creative and try to average and/or extrapolate the line segments you've detected to map out the full extent of the lane lines.  You can see an example of the result you're going for in the video \"P1_example.mp4\".  Ultimately, you would like to draw just one line for the left side of the lane, and one for the right.\n",
    "\n",
    "In addition to implementing code, there is a brief writeup to complete. The writeup should be completed in a separate file, which can be either a markdown file or a pdf document. There is a [write up template](https://github.com/udacity/CarND-LaneLines-P1/blob/master/writeup_template.md) that can be used to guide the writing process. Completing both the code in the Ipython notebook and the writeup template will cover all of the [rubric points](https://review.udacity.com/#!/rubrics/322/view) for this project.\n",
    "\n",
    "---\n",
    "Let's have a look at our first image called 'test_images/solidWhiteRight.jpg'.  Run the 2 cells below (hit Shift-Enter or the \"play\" button above) to display the image.\n",
    "\n",
    "**Note: If, at any point, you encounter frozen display windows or other confounding issues, you can always start again with a clean slate by going to the \"Kernel\" menu above and selecting \"Restart & Clear Output\".**\n",
    "\n",
    "---"
   ]
  },
  {
   "cell_type": "markdown",
   "metadata": {},
   "source": [
    "**The tools you have are color selection, region of interest selection, grayscaling, Gaussian smoothing, Canny Edge Detection and Hough Tranform line detection.  You  are also free to explore and try other techniques that were not presented in the lesson.  Your goal is piece together a pipeline to detect the line segments in the image, then average/extrapolate them and draw them onto the image for display (as below).  Once you have a working pipeline, try it out on the video stream below.**\n",
    "\n",
    "---\n",
    "\n",
    "<figure>\n",
    " <img src=\"examples/line-segments-example.jpg\" width=\"380\" alt=\"Combined Image\" />\n",
    " <figcaption>\n",
    " <p></p> \n",
    " <p style=\"text-align: center;\"> Your output should look something like this (above) after detecting line segments using the helper functions below </p> \n",
    " </figcaption>\n",
    "</figure>\n",
    " <p></p> \n",
    "<figure>\n",
    " <img src=\"examples/laneLines_thirdPass.jpg\" width=\"380\" alt=\"Combined Image\" />\n",
    " <figcaption>\n",
    " <p></p> \n",
    " <p style=\"text-align: center;\"> Your goal is to connect/average/extrapolate line segments to get output like this</p> \n",
    " </figcaption>\n",
    "</figure>"
   ]
  },
  {
   "cell_type": "markdown",
   "metadata": {},
   "source": [
    "**Run the cell below to import some packages.  If you get an `import error` for a package you've already installed, try changing your kernel (select the Kernel menu above --> Change Kernel).  Still have problems?  Try relaunching Jupyter Notebook from the terminal prompt.  Also, consult the forums for more troubleshooting tips.**  "
   ]
  },
  {
   "cell_type": "markdown",
   "metadata": {},
   "source": [
    "## Import Packages"
   ]
  },
  {
   "cell_type": "code",
   "execution_count": 2,
   "metadata": {},
   "outputs": [],
   "source": [
    "#importing some useful packages\n",
    "import matplotlib.pyplot as plt\n",
    "import matplotlib.image as mpimg\n",
    "import numpy as np\n",
    "import cv2\n",
    "%matplotlib inline"
   ]
  },
  {
   "cell_type": "markdown",
   "metadata": {},
   "source": [
    "## Read in an Image"
   ]
  },
  {
   "cell_type": "code",
   "execution_count": 1,
   "metadata": {},
   "outputs": [
    {
     "ename": "NameError",
     "evalue": "name 'mpimg' is not defined",
     "output_type": "error",
     "traceback": [
      "\u001b[0;31m---------------------------------------------------------------------------\u001b[0m",
      "\u001b[0;31mNameError\u001b[0m                                 Traceback (most recent call last)",
      "\u001b[0;32m<ipython-input-1-2a96b91e85f1>\u001b[0m in \u001b[0;36m<module>\u001b[0;34m()\u001b[0m\n\u001b[1;32m      1\u001b[0m \u001b[0;31m#reading in an image\u001b[0m\u001b[0;34m\u001b[0m\u001b[0;34m\u001b[0m\u001b[0m\n\u001b[0;32m----> 2\u001b[0;31m \u001b[0mimage\u001b[0m \u001b[0;34m=\u001b[0m \u001b[0mmpimg\u001b[0m\u001b[0;34m.\u001b[0m\u001b[0mimread\u001b[0m\u001b[0;34m(\u001b[0m\u001b[0;34m'test_images/solidWhiteRight.jpg'\u001b[0m\u001b[0;34m)\u001b[0m\u001b[0;34m\u001b[0m\u001b[0m\n\u001b[0m\u001b[1;32m      3\u001b[0m \u001b[0;34m\u001b[0m\u001b[0m\n\u001b[1;32m      4\u001b[0m \u001b[0;31m#printing out some stats and plotting\u001b[0m\u001b[0;34m\u001b[0m\u001b[0;34m\u001b[0m\u001b[0m\n\u001b[1;32m      5\u001b[0m \u001b[0mprint\u001b[0m\u001b[0;34m(\u001b[0m\u001b[0;34m'This image is:'\u001b[0m\u001b[0;34m,\u001b[0m \u001b[0mtype\u001b[0m\u001b[0;34m(\u001b[0m\u001b[0mimage\u001b[0m\u001b[0;34m)\u001b[0m\u001b[0;34m,\u001b[0m \u001b[0;34m'with dimensions:'\u001b[0m\u001b[0;34m,\u001b[0m \u001b[0mimage\u001b[0m\u001b[0;34m.\u001b[0m\u001b[0mshape\u001b[0m\u001b[0;34m)\u001b[0m\u001b[0;34m\u001b[0m\u001b[0m\n",
      "\u001b[0;31mNameError\u001b[0m: name 'mpimg' is not defined"
     ]
    }
   ],
   "source": [
    "#reading in an image\n",
    "image = mpimg.imread('test_images/solidWhiteRight.jpg')\n",
    "\n",
    "#printing out some stats and plotting\n",
    "print('This image is:', type(image), 'with dimensions:', image.shape)\n",
    "plt.imshow(image+50)  # if you wanted to show a single color channel image called 'gray', for example, call as plt.imshow(gray, cmap='gray')"
   ]
  },
  {
   "cell_type": "markdown",
   "metadata": {},
   "source": [
    "## Ideas for Lane Detection Pipeline"
   ]
  },
  {
   "cell_type": "markdown",
   "metadata": {},
   "source": [
    "**Some OpenCV functions (beyond those introduced in the lesson) that might be useful for this project are:**\n",
    "\n",
    "`cv2.inRange()` for color selection  \n",
    "`cv2.fillPoly()` for regions selection  \n",
    "`cv2.line()` to draw lines on an image given endpoints  \n",
    "`cv2.addWeighted()` to coadd / overlay two images\n",
    "`cv2.cvtColor()` to grayscale or change color\n",
    "`cv2.imwrite()` to output images to file  \n",
    "`cv2.bitwise_and()` to apply a mask to an image\n",
    "\n",
    "**Check out the OpenCV documentation to learn about these and discover even more awesome functionality!**"
   ]
  },
  {
   "cell_type": "markdown",
   "metadata": {},
   "source": [
    "## Helper Functions"
   ]
  },
  {
   "cell_type": "markdown",
   "metadata": {},
   "source": [
    "Below are some helper functions to help get you started. They should look familiar from the lesson!"
   ]
  },
  {
   "cell_type": "code",
   "execution_count": 3,
   "metadata": {},
   "outputs": [],
   "source": [
    "import math\n",
    "import random as rnd\n",
    "\n",
    "def grayscale(img):\n",
    "    \"\"\"Applies the Grayscale transform\n",
    "    This will return an image with only one color channel\n",
    "    but NOTE: to see the returned image as grayscale\n",
    "    (assuming your grayscaled image is called 'gray')\n",
    "    you should call plt.imshow(gray, cmap='gray')\"\"\"\n",
    "    return cv2.cvtColor(img, cv2.COLOR_RGB2GRAY)\n",
    "    # Or use BGR2GRAY if you read an image with cv2.imread()\n",
    "    # return cv2.cvtColor(img, cv2.COLOR_BGR2GRAY)\n",
    "    \n",
    "def canny(img, low_threshold, high_threshold):\n",
    "    \"\"\"Applies the Canny transform\"\"\"\n",
    "    return cv2.Canny(img, low_threshold, high_threshold)\n",
    "\n",
    "def gaussian_blur(img, kernel_size):\n",
    "    \"\"\"Applies a Gaussian Noise kernel\"\"\"\n",
    "    return cv2.GaussianBlur(img, (kernel_size, kernel_size), 0)\n",
    "\n",
    "def region_of_interest(img, vertices):\n",
    "    \"\"\"\n",
    "    Applies an image mask.\n",
    "    \n",
    "    Only keeps the region of the image defined by the polygon\n",
    "    formed from `vertices`. The rest of the image is set to black.\n",
    "    `vertices` should be a numpy array of integer points.\n",
    "    \"\"\"\n",
    "    #defining a blank mask to start with\n",
    "    mask = np.zeros_like(img)   \n",
    "    \n",
    "    #defining a 3 channel or 1 channel color to fill the mask with depending on the input image\n",
    "    if len(img.shape) > 2:\n",
    "        channel_count = img.shape[2]  # i.e. 3 or 4 depending on your image\n",
    "        ignore_mask_color = (255,) * channel_count\n",
    "    else:\n",
    "        ignore_mask_color = 255\n",
    "        \n",
    "    #filling pixels inside the polygon defined by \"vertices\" with the fill color    \n",
    "    cv2.fillPoly(mask, vertices, ignore_mask_color)\n",
    "    \n",
    "    #returning the image only where mask pixels are nonzero\n",
    "    masked_image = cv2.bitwise_and(img, mask)\n",
    "    return masked_image\n",
    "\n",
    "\n",
    "def draw_lines(img, lines, color=[255, 0, 0], thickness=2):\n",
    "    \"\"\"\n",
    "    NOTE: this is the function you might want to use as a starting point once you want to \n",
    "    average/extrapolate the line segments you detect to map out the full\n",
    "    extent of the lane (going from the result shown in raw-lines-example.mp4\n",
    "    to that shown in P1_example.mp4).  \n",
    "    \n",
    "    Think about things like separating line segments by their \n",
    "    slope ((y2-y1)/(x2-x1)) to decide which segments are part of the left\n",
    "    line vs. the right line.  Then, you can average the position of each of \n",
    "    the lines and extrapolate to the top and bottom of the lane.\n",
    "    \n",
    "    This function draws `lines` with `color` and `thickness`.    \n",
    "    Lines are drawn on the image inplace (mutates the image).\n",
    "    If you want to make the lines semi-transparent, think about combining\n",
    "    this function with the weighted_img() function below\n",
    "    \"\"\"\n",
    "    for line in lines:\n",
    "        for x1,y1,x2,y2 in line:\n",
    "#             color = [rnd.randrange(0,255),rnd.randrange(0,255),rnd.randrange(0,255)]\n",
    "            cv2.line(img, (x1, y1), (x2, y2), color, thickness)\n",
    "\n",
    "def hough_lines(img, rho, theta, threshold, min_line_len, max_line_gap):\n",
    "    \"\"\"\n",
    "    `img` should be the output of a Canny transform.\n",
    "        \n",
    "    Returns an image with hough lines drawn.\n",
    "    \"\"\"\n",
    "    lines = cv2.HoughLinesP(img, rho, theta, threshold, np.array([]), minLineLength=min_line_len, maxLineGap=max_line_gap)\n",
    "    \n",
    "    line_img = np.zeros((img.shape[0], img.shape[1], 3), dtype=np.uint8)\n",
    "    draw_lines(line_img, lines, thickness=10)\n",
    "    return line_img\n",
    "\n",
    "# Python 3 has support for cool math symbols.\n",
    "\n",
    "def weighted_img(img, initial_img, α=0.8, β=1., γ=0.):\n",
    "    \"\"\"\n",
    "    `img` is the output of the hough_lines(), An image with lines drawn on it.\n",
    "    Should be a blank image (all black) with lines drawn on it.\n",
    "    \n",
    "    `initial_img` should be the image before any processing.\n",
    "    \n",
    "    The result image is computed as follows:\n",
    "    \n",
    "    initial_img * α + img * β + γ\n",
    "    NOTE: initial_img and img must be the same shape!\n",
    "    \"\"\"\n",
    "    return cv2.addWeighted(initial_img, α, img, β, γ)"
   ]
  },
  {
   "cell_type": "markdown",
   "metadata": {},
   "source": [
    "## Test Images\n",
    "\n",
    "Build your pipeline to work on the images in the directory \"test_images\"  \n",
    "**You should make sure your pipeline works well on these images before you try the videos.**"
   ]
  },
  {
   "cell_type": "code",
   "execution_count": 4,
   "metadata": {},
   "outputs": [
    {
     "data": {
      "text/plain": [
       "['solidWhiteCurve.jpg',\n",
       " 'whiteCarLaneSwitch.jpg',\n",
       " 'solidWhiteRight.jpg',\n",
       " 'solidYellowCurve.jpg',\n",
       " '.ipynb_checkpoints',\n",
       " 'solidYellowCurve2.jpg',\n",
       " 'solidYellowLeft.jpg']"
      ]
     },
     "execution_count": 4,
     "metadata": {},
     "output_type": "execute_result"
    }
   ],
   "source": [
    "import os\n",
    "os.listdir(\"test_images/\")"
   ]
  },
  {
   "cell_type": "markdown",
   "metadata": {},
   "source": [
    "## Build a Lane Finding Pipeline\n",
    "\n"
   ]
  },
  {
   "cell_type": "markdown",
   "metadata": {},
   "source": [
    "Build the pipeline and run your solution on all test_images. Make copies into the `test_images_output` directory, and you can use the images in your writeup report.\n",
    "\n",
    "Try tuning the various parameters, especially the low and high Canny thresholds as well as the Hough lines parameters."
   ]
  },
  {
   "cell_type": "code",
   "execution_count": 11,
   "metadata": {},
   "outputs": [],
   "source": [
    "import math as m\n",
    "def get_prepared_image(image,x_correction = 60,y_correction = None, low_tresh = 50, hightresh=150):\n",
    "    gray_img= grayscale(image)\n",
    "    \n",
    "    \n",
    "    y_len, x_len =  gray_img.shape\n",
    "    \n",
    "    if not y_correction:\n",
    "        y_correction = int(0.12 * y_len)\n",
    "    vertices = np.array([[x_correction,y_len],\n",
    "             [int(x_len/2)-x_correction,int(y_len/2)+y_correction],\n",
    "             [int(x_len/2)+x_correction,int(y_len/2)+y_correction],\n",
    "             [x_len-x_correction,y_len]], 'int32')\n",
    "\n",
    "    kernel_size = 11\n",
    "    gray_img = cv2.GaussianBlur(gray_img,(kernel_size, kernel_size), 0)\n",
    "#     plt.imshow(gray_img)\n",
    "#     gray_img = canny(gray_img,100,200 )\n",
    "#     gray_img = canny(gray_img,40,200 )\n",
    "#     gray_img = canny(gray_img,40,60 )\n",
    "\n",
    "#     gray_img = canny(gray_img,50,150)\n",
    "\n",
    "    gray_img = canny(gray_img,low_tresh,hightresh)\n",
    "    gray_img = region_of_interest(gray_img,[vertices])\n",
    "#     plt.imshow(region_of_interest(image,[vertices]))\n",
    "#     plt.imshow(gray_img)\n",
    "    return gray_img\n",
    "# def only_right(dots, mx):\n",
    "#     for rng in range(0,mx,10):\n",
    "#         _dots = filter(dots, lambda x: x[0][])\n",
    "def get_lines(gray_img, min_line_lenth = 10):\n",
    "    lines = cv2.HoughLinesP(gray_img, 1, (np.pi/180)*3, 1, np.array([]), minLineLength=10, maxLineGap=5)\n",
    "\n",
    "#     lines = cv2.HoughLinesP(gray_img, 5, (np.pi/180)*3, 1, np.array([]), minLineLength=min_line_lenth, maxLineGap=3)\n",
    "    left_side = [line for line in lines if min(line[0][0],line[0][2]) < gray_img.shape[1]/2]\n",
    "    right_side = [line for line in lines if min(line[0][0],line[0][2]) > gray_img.shape[1]/2]\n",
    "    left_side = sorted(left_side, key= lambda x: min(x[0][1],x[0][3]))\n",
    "    right_side = sorted(right_side, key= lambda x: min(x[0][1],x[0][3]))\n",
    "    return left_side,right_side\n",
    "\n",
    "\n",
    "def get_poly_line(line):\n",
    "    poly_x=np.polyfit(x=[line[0],line[2]], y=[line[1], line[3]], deg=1)\n",
    "    poly_fn_x=np.poly1d(poly_x)\n",
    "    poly_y=np.polyfit(x=[line[1], line[3]], y=[line[0],line[2]], deg=1)\n",
    "    poly_fn_y=np.poly1d(poly_y)\n",
    "    return poly_fn_x,poly_fn_y\n",
    "\n",
    "def get_line(line,oposit_top, top,shape):\n",
    "    poly_x=np.polyfit(x=[line[0],line[2]], y=[line[1], line[3]], deg=1)\n",
    "    poly_fn_x=np.poly1d(poly_x)\n",
    "    poly_y=np.polyfit(x=[line[1], line[3]], y=[line[0],line[2]], deg=1)\n",
    "    poly_fn_y=np.poly1d(poly_y)\n",
    "\n",
    "    \n",
    "    if top[1] > oposit_top[1]:\n",
    "        top = (int(poly_fn_y(oposit_top[1])),oposit_top[1])\n",
    "    return [[top[0],int(poly_fn_x(top[0])),int(poly_fn_y(shape[0])),shape[0]]]\n"
   ]
  },
  {
   "cell_type": "code",
   "execution_count": 12,
   "metadata": {},
   "outputs": [],
   "source": [
    "strong_cnt = 0 \n",
    "weak_cnt = 0\n",
    "no_filt_cnt = 0\n",
    "def get_border(lines, left, debug= False):\n",
    "    global strong_cnt,weak_cnt,no_filt_cnt\n",
    "    result_line = [0,0,0,0]\n",
    "    result_line2 = [0,0,0,0]\n",
    "    result_line_lenght = 0\n",
    "    if debug:\n",
    "        print('lines',lines)\n",
    "    def filt(x):\n",
    "        x = x[0]        \n",
    "#         angle = abs(m.degrees(m.atan((x[1]-x[3])/(x[0]-x[2]))))\n",
    "# #         print(angle)\n",
    "#         return angle > 25 and angle < 80 and abs(x[0]-x[2]) > abs(x[1]-x[3])\n",
    "        \n",
    "        angle = m.degrees(m.atan((x[1]-x[3])/(x[0]-x[2])))\n",
    "        if(left):\n",
    "            return angle < -25 and angle > -80 and abs(x[0]-x[2]) > abs(x[1]-x[3])\n",
    "        else:\n",
    "            return angle > 25 and angle < 80 and abs(x[0]-x[2]) > abs(x[1]-x[3])\n",
    "        \n",
    "    def filt_weak(x):\n",
    "        x = x[0]\n",
    "        angle = abs(m.degrees(m.atan((x[1]-x[3])/(x[0]-x[2]))))\n",
    "#         print(angle)\n",
    "#         return angle > 45 and angle < 65\n",
    "\n",
    "        return angle > 25 and angle < 80\n",
    "    lines_filtered = list(filter(filt,lines))\n",
    "    if len(lines_filtered) == 0:\n",
    "        lines_filtered = list(filter(filt_weak,lines))\n",
    "    if len(lines_filtered) == 0:\n",
    "        lines_filtered = lines\n",
    "    if debug:\n",
    "        print('filtered',lines_filtered)\n",
    "    merged = []\n",
    "    for line in lines_filtered:\n",
    "        line = line[0]\n",
    "        angle1 = abs(m.degrees(m.atan((line[1]-line[3])/(line[0]-line[2]))))\n",
    "        for line2 in lines_filtered:\n",
    "            line2=line2[0]\n",
    "            angle2 = abs(m.degrees(m.atan((line2[1]-line2[3])/(line2[0]-line2[2]))))\n",
    "            if ((max(line[1],line[3])> line2[1]\n",
    "                    and min(line[1],line[3]) < line2[1])\n",
    "                    or\n",
    "                    (max(line[1],line[3])> line2[3]\n",
    "                    and min(line[1],line[3]) < line2[3])) and abs(angle1 - angle2) < 2:\n",
    "                _,yp2 = get_poly_line(line2)\n",
    "                y1 = line[1]\n",
    "                y2 = line[3]\n",
    "                x1 = int(np.mean([line[0], yp2(y1)]))\n",
    "                x2 = int(np.mean([line[2], yp2(y2)]))\n",
    "                merged.append([[x1,y1,x2,y2]])\n",
    "    if debug:\n",
    "        print('merged',merged)\n",
    "    lns =  lines_filtered\n",
    "    if (len(merged) > 0):\n",
    "        lines_filtered = list(filter(filt,merged))\n",
    "        strong_cnt += 1\n",
    "        if len(lines_filtered) == 0:\n",
    "            strong_cnt -=1\n",
    "            weak_cnt +=1             \n",
    "            lines_filtered = list(filter(filt_weak,merged))\n",
    "        if len(lines_filtered) == 0:\n",
    "            weak_cnt -=1\n",
    "            no_filt_cnt +=1\n",
    "            lines_filtered = merged  \n",
    "    \n",
    "    if debug:\n",
    "        print('merged_filtered',lines_filtered)\n",
    "          \n",
    "    lines_lenthed = list(map(lambda x: (abs(x[0][1] - x[0][3]), x) ,lines_filtered))\n",
    "#     try:\n",
    "\n",
    "    if debug:\n",
    "        print('lines_lenthed',lines_lenthed)\n",
    "    lines_lenthed = list(sorted(lines_lenthed,key=lambda x: x[0]))\n",
    "    result_lenthed = lines_lenthed[-1][1][0]\n",
    "    max_lenth = lines_lenthed[-1][0] \n",
    "    dots = []\n",
    "    for line in lines_lenthed:\n",
    "        if(line[0] > max_lenth*0.4):\n",
    "            line = line[1]\n",
    "            dots.append([line[0][0],line[0][1]])\n",
    "            dots.append([line[0][2],line[0][3]])\n",
    "\n",
    "    for dot in dots:\n",
    "        if(result_lenthed[1] > dot[1]):\n",
    "            result_lenthed[0] = dot[0]\n",
    "            result_lenthed[1] = dot[1]\n",
    "\n",
    "        if(result_lenthed[3] < dot[1]):\n",
    "            result_lenthed[2] = dot[0]\n",
    "            result_lenthed[3] = dot[1]\n",
    "\n",
    "    return result_lenthed\n"
   ]
  },
  {
   "cell_type": "code",
   "execution_count": 6,
   "metadata": {},
   "outputs": [],
   "source": [
    "def increase_contrast(image,alpha = 2 ,beta = 0):\n",
    "    return np.clip(alpha*image + beta, 0, 255)"
   ]
  },
  {
   "cell_type": "code",
   "execution_count": 7,
   "metadata": {},
   "outputs": [],
   "source": [
    "from pathlib import Path\n",
    "Path(\"test_images_output\").mkdir(parents=True, exist_ok=True)\n",
    "img = os.listdir(\"test_images/\")[0]\n",
    "image = mpimg.imread('test_images/'+img)"
   ]
  },
  {
   "cell_type": "code",
   "execution_count": 13,
   "metadata": {
    "scrolled": true
   },
   "outputs": [
    {
     "data": {
      "text/plain": [
       "<matplotlib.image.AxesImage at 0x7ff62c515c18>"
      ]
     },
     "execution_count": 13,
     "metadata": {},
     "output_type": "execute_result"
    },
    {
     "data": {
      "image/png": "[encoded data removed]",
      "text/plain": [
       "<matplotlib.figure.Figure at 0x7ff640028a90>"
      ]
     },
     "metadata": {
      "needs_background": "light"
     },
     "output_type": "display_data"
    }
   ],
   "source": [
    "# TODO: Build your pipeline that will draw lane lines on the test_images\n",
    "# then save them to the test_images_output directory.\n",
    "from pathlib import Path\n",
    "Path(\"test_images_output\").mkdir(parents=True, exist_ok=True)\n",
    "for img in [os.listdir(\"test_images/\")[1]]:\n",
    "# for img in [f for f in os.listdir('test_images/') if os.path.isfile(f)]:\n",
    "# for img in ['img_err.jpg']:\n",
    "    image = mpimg.imread('test_images/'+img)\n",
    "    gray_img = get_prepared_image(image)\n",
    "    left, right = get_lines(gray_img)\n",
    "        \n",
    "    \n",
    "    line_img_t = np.zeros((image.shape[0], image.shape[1], 3), dtype=np.uint8)\n",
    "    \n",
    "    l_line = get_border(left, True)\n",
    "    l_top = (max(left[0][0][0],left[0][0][2]),min(left[0][0][1],left[0][0][3]))\n",
    "    r_line = get_border(right, False)\n",
    "    r_top  = (right[0][0][0],right[0][0][1])\n",
    "    draw_lines(image, [get_line(l_line,r_top, l_top,image.shape),get_line(r_line,l_top, r_top,image.shape)], thickness=10)\n",
    "#     draw_lines(image, left+right, thickness=2)\n",
    "    mpimg.imsave('test_images_output/'+img, image)\n",
    "\n",
    "\n",
    "plt.imshow(image)\n"
   ]
  },
  {
   "cell_type": "code",
   "execution_count": 10,
   "metadata": {},
   "outputs": [
    {
     "name": "stdout",
     "output_type": "stream",
     "text": [
      "strong  2\n",
      "weak  0\n",
      "no_filt_cnt 0\n"
     ]
    }
   ],
   "source": [
    "# strong_cnt = 0 \n",
    "# weak_cnt = 0\n",
    "# no_filt_cnt = 0\n",
    "print('strong ',strong_cnt )\n",
    "print('weak ',weak_cnt ) \n",
    "print('no_filt_cnt', no_filt_cnt)"
   ]
  },
  {
   "cell_type": "markdown",
   "metadata": {},
   "source": [
    "## Test on Videos\n",
    "\n",
    "You know what's cooler than drawing lanes over images? Drawing lanes over video!\n",
    "\n",
    "We can test our solution on two provided videos:\n",
    "\n",
    "`solidWhiteRight.mp4`\n",
    "\n",
    "`solidYellowLeft.mp4`\n",
    "\n",
    "**Note: if you get an import error when you run the next cell, try changing your kernel (select the Kernel menu above --> Change Kernel). Still have problems? Try relaunching Jupyter Notebook from the terminal prompt. Also, consult the forums for more troubleshooting tips.**\n",
    "\n",
    "**If you get an error that looks like this:**\n",
    "```\n",
    "NeedDownloadError: Need ffmpeg exe. \n",
    "You can download it by calling: \n",
    "imageio.plugins.ffmpeg.download()\n",
    "```\n",
    "**Follow the instructions in the error message and check out [this forum post](https://discussions.udacity.com/t/project-error-of-test-on-videos/274082) for more troubleshooting tips across operating systems.**"
   ]
  },
  {
   "cell_type": "code",
   "execution_count": 8,
   "metadata": {},
   "outputs": [],
   "source": [
    "# Import everything needed to edit/save/watch video clips\n",
    "from moviepy.editor import VideoFileClip\n",
    "from IPython.display import HTML"
   ]
  },
  {
   "cell_type": "code",
   "execution_count": 36,
   "metadata": {},
   "outputs": [],
   "source": [
    "accum_l = None\n",
    "accum_r = None\n",
    "\n",
    "def reset_accums():\n",
    "    global accum_l \n",
    "    global accum_r\n",
    "    accum_l = None\n",
    "    accum_r = None\n",
    "\n",
    "def process_iteration(image, x_correction, y_correction, low_tresh=50, hightresh=150):\n",
    "    try:\n",
    "        gray_img = get_prepared_image(image, x_correction=x_correction, y_correction=y_correction,low_tresh=low_tresh,hightresh=hightresh)\n",
    "        left, right = get_lines(gray_img)\n",
    "\n",
    "        l_line = get_border(left, True)\n",
    "        l_top = (max(left[0][0][0],left[0][0][2]),min(left[0][0][1],left[0][0][3]))\n",
    "        r_line = get_border(right, False)\n",
    "        r_top  = (right[0][0][0],right[0][0][1])\n",
    "        l_res = get_line(l_line,r_top, l_top,image.shape)\n",
    "        r_res = get_line(r_line,l_top, r_top,image.shape)\n",
    "\n",
    "        angle_r = m.degrees(m.atan(((r_res[0][1]-r_res[0][3])/(r_res[0][0]-r_res[0][2]))))\n",
    "        \n",
    "        angle_l= m.degrees(m.atan(((l_res[0][1]-l_res[0][3])/(l_res[0][0]-l_res[0][2]))))\n",
    "\n",
    "\n",
    "        return l_res,r_res,angle_l,angle_r\n",
    "        \n",
    "    except Exception as  e:\n",
    "#         plt.imshow(img)\n",
    "        mpimg.imsave('img_err.jpg', img)\n",
    "        raise e\n",
    "\n",
    "def process_internal(img, x_correction = 60, y_correction = None):\n",
    "    global accum_l\n",
    "    global accum_r    \n",
    "    best_l, best_r = None, None\n",
    "    try:\n",
    "        res_l,res_r,angle_l,angle_r = process_iteration(img,x_correction,y_correction)\n",
    "        if angle_l < -25:\n",
    "                best_l = res_l\n",
    "        if angle_r > 25:\n",
    "                best_r = res_r\n",
    "        if best_l is None or best_r is None:\n",
    "            raise Exception()\n",
    "    except:\n",
    "        try:\n",
    "            res_l,res_r,angle_l,angle_r = process_iteration(increase_contrast(img),x_correction,y_correction)\n",
    "            if angle_l < -25:\n",
    "                best_l = res_l\n",
    "            if angle_r > 25:\n",
    "                best_r = res_r\n",
    "            if best_l is None or best_r is None:\n",
    "                raise Exception()\n",
    "        except:\n",
    "            res_l,res_r,angle_l,angle_r = process_iteration(img,x_correction,y_correction, 10,30)\n",
    "            if angle_l < -25 or best_l is None:\n",
    "                best_l = res_l\n",
    "            if angle_r > 25 or best_r is None:\n",
    "                best_r = res_r\n",
    "    \n",
    "    result = np.copy(img)*0\n",
    "    \n",
    "    k = 0.7\n",
    "    if accum_l is None or accum_r is None:\n",
    "        accum_l = best_l\n",
    "        accum_r = best_r\n",
    "    else:\n",
    "        for i in range(len(accum_l[0])):\n",
    "            accum_l[0][i] = int(k*accum_l[0][i] + (1-k)*best_l[0][i])\n",
    "            accum_r[0][i] = int(k*accum_r[0][i] + (1-k)*best_r[0][i])\n",
    "    \n",
    "    draw_lines(result, [accum_r, accum_l], thickness=10)\n",
    "#     draw_lines(result, [best_r, best_l], thickness=10)\n",
    "    return result\n",
    "\n",
    "def process_image(img):\n",
    "    return weighted_img(process_internal(img),img)\n",
    "    "
   ]
  },
  {
   "cell_type": "code",
   "execution_count": 49,
   "metadata": {},
   "outputs": [],
   "source": [
    "white_src = 'white_src/'\n",
    "white_rdy = 'white_rdy/'\n",
    "Path(white_src).mkdir(parents=True, exist_ok=True)\n",
    "Path(white_rdy).mkdir(parents=True, exist_ok=True)\n",
    "indexer = 0\n",
    "def save_img_save_process(img):\n",
    "    global indexer\n",
    "    mpimg.imsave(white_src + str(indexer) + '.jpg',img)\n",
    "    result = clip3_process(img)\n",
    "    mpimg.imsave(white_rdy + str(indexer) + '.jpg',result)\n",
    "    indexer += 1\n",
    "    return result\n",
    "    "
   ]
  },
  {
   "cell_type": "markdown",
   "metadata": {},
   "source": [
    "Let's try the one with the solid white lane on the right first ..."
   ]
  },
  {
   "cell_type": "code",
   "execution_count": 24,
   "metadata": {},
   "outputs": [
    {
     "name": "stdout",
     "output_type": "stream",
     "text": [
      "[MoviePy] >>>> Building video test_videos_output/solidWhiteRight.mp4\n",
      "[MoviePy] Writing video test_videos_output/solidWhiteRight.mp4\n"
     ]
    },
    {
     "name": "stderr",
     "output_type": "stream",
     "text": [
      "100%|█████████▉| 221/222 [00:16<00:00, 13.70it/s]\n"
     ]
    },
    {
     "name": "stdout",
     "output_type": "stream",
     "text": [
      "[MoviePy] Done.\n",
      "[MoviePy] >>>> Video ready: test_videos_output/solidWhiteRight.mp4 \n",
      "\n",
      "CPU times: user 6.06 s, sys: 228 ms, total: 6.28 s\n",
      "Wall time: 17.8 s\n"
     ]
    }
   ],
   "source": [
    "white_output = 'test_videos_output/solidWhiteRight.mp4'\n",
    "## To speed up the testing process you may want to try your pipeline on a shorter subclip of the video\n",
    "## To do so add .subclip(start_second,end_second) to the end of the line below\n",
    "## Where start_second and end_second are integer values representing the start and end of the subclip\n",
    "## You may also uncomment the following line for a subclip of the first 5 seconds\n",
    "# clip1 = VideoFileClip(\"test_videos/solidWhiteRight.mp4\").subclip(0,3)\n",
    "clip1 = VideoFileClip(\"test_videos/solidWhiteRight.mp4\")\n",
    "reset_accums()\n",
    "white_clip = clip1.fl_image(process_image) #NOTE: this function expects color images!!\n",
    "%time white_clip.write_videofile(white_output, audio=False)"
   ]
  },
  {
   "cell_type": "markdown",
   "metadata": {},
   "source": [
    "Play the video inline, or if you prefer find the video in your filesystem (should be in the same directory) and play it in your video player of choice."
   ]
  },
  {
   "cell_type": "code",
   "execution_count": 25,
   "metadata": {},
   "outputs": [
    {
     "data": {
      "text/html": [
       "\n",
       "<video width=\"960\" height=\"540\" controls>\n",
       "  <source src=\"test_videos_output/solidWhiteRight.mp4\">\n",
       "</video>\n"
      ],
      "text/plain": [
       "<IPython.core.display.HTML object>"
      ]
     },
     "execution_count": 25,
     "metadata": {},
     "output_type": "execute_result"
    }
   ],
   "source": [
    "HTML(\"\"\"\n",
    "<video width=\"960\" height=\"540\" controls>\n",
    "  <source src=\"{0}\">\n",
    "</video>\n",
    "\"\"\".format(white_output))"
   ]
  },
  {
   "cell_type": "markdown",
   "metadata": {},
   "source": [
    "## Improve the draw_lines() function\n",
    "\n",
    "**At this point, if you were successful with making the pipeline and tuning parameters, you probably have the Hough line segments drawn onto the road, but what about identifying the full extent of the lane and marking it clearly as in the example video (P1_example.mp4)?  Think about defining a line to run the full length of the visible lane based on the line segments you identified with the Hough Transform. As mentioned previously, try to average and/or extrapolate the line segments you've detected to map out the full extent of the lane lines. You can see an example of the result you're going for in the video \"P1_example.mp4\".**\n",
    "\n",
    "**Go back and modify your draw_lines function accordingly and try re-running your pipeline. The new output should draw a single, solid line over the left lane line and a single, solid line over the right lane line. The lines should start from the bottom of the image and extend out to the top of the region of interest.**"
   ]
  },
  {
   "cell_type": "markdown",
   "metadata": {},
   "source": [
    "Now for the one with the solid yellow lane on the left. This one's more tricky!"
   ]
  },
  {
   "cell_type": "code",
   "execution_count": 26,
   "metadata": {},
   "outputs": [
    {
     "name": "stdout",
     "output_type": "stream",
     "text": [
      "[MoviePy] >>>> Building video test_videos_output/solidYellowLeft.mp4\n",
      "[MoviePy] Writing video test_videos_output/solidYellowLeft.mp4\n"
     ]
    },
    {
     "name": "stderr",
     "output_type": "stream",
     "text": [
      "100%|█████████▉| 681/682 [00:53<00:00, 12.73it/s]\n"
     ]
    },
    {
     "name": "stdout",
     "output_type": "stream",
     "text": [
      "[MoviePy] Done.\n",
      "[MoviePy] >>>> Video ready: test_videos_output/solidYellowLeft.mp4 \n",
      "\n",
      "CPU times: user 18.4 s, sys: 714 ms, total: 19.1 s\n",
      "Wall time: 55.2 s\n"
     ]
    }
   ],
   "source": [
    "yellow_output = 'test_videos_output/solidYellowLeft.mp4'\n",
    "## To speed up the testing process you may want to try your pipeline on a shorter subclip of the video\n",
    "## To do so add .subclip(start_second,end_second) to the end of the line below\n",
    "## Where start_second and end_second are integer values representing the start and end of the subclip\n",
    "## You may also uncomment the following line for a subclip of the first 5 seconds\n",
    "##clip2 = VideoFileClip('test_videos/solidYellowLeft.mp4').subclip(0,5)\n",
    "clip2 = VideoFileClip('test_videos/solidYellowLeft.mp4')\n",
    "reset_accums()\n",
    "yellow_clip = clip2.fl_image(process_image)\n",
    "%time yellow_clip.write_videofile(yellow_output, audio=False)"
   ]
  },
  {
   "cell_type": "code",
   "execution_count": 27,
   "metadata": {},
   "outputs": [
    {
     "data": {
      "text/html": [
       "\n",
       "<video width=\"960\" height=\"540\" controls>\n",
       "  <source src=\"test_videos_output/solidYellowLeft.mp4\">\n",
       "</video>\n"
      ],
      "text/plain": [
       "<IPython.core.display.HTML object>"
      ]
     },
     "execution_count": 27,
     "metadata": {},
     "output_type": "execute_result"
    }
   ],
   "source": [
    "HTML(\"\"\"\n",
    "<video width=\"960\" height=\"540\" controls>\n",
    "  <source src=\"{0}\">\n",
    "</video>\n",
    "\"\"\".format(yellow_output))"
   ]
  },
  {
   "cell_type": "markdown",
   "metadata": {},
   "source": [
    "## Writeup and Submission\n",
    "\n",
    "If you're satisfied with your video outputs, it's time to make the report writeup in a pdf or markdown file. Once you have this Ipython notebook ready along with the writeup, it's time to submit for review! Here is a [link](https://github.com/udacity/CarND-LaneLines-P1/blob/master/writeup_template.md) to the writeup template file.\n"
   ]
  },
  {
   "cell_type": "markdown",
   "metadata": {
    "collapsed": true
   },
   "source": [
    "## Optional Challenge\n",
    "\n",
    "Try your lane finding pipeline on the video below.  Does it still work?  Can you figure out a way to make it more robust?  If you're up for the challenge, modify your pipeline so it works with this video and submit it along with the rest of your project!"
   ]
  },
  {
   "cell_type": "code",
   "execution_count": 33,
   "metadata": {},
   "outputs": [],
   "source": [
    "def clip3_process(img):\n",
    "    y_len, x_len,channels = img.shape\n",
    "    image = img[0:y_len-60, 0:x_len,0:channels]\n",
    "    result = process_internal(image, y_correction=150, x_correction=130)\n",
    "    \n",
    "    lines = np.vstack((result, img[y_len-60:y_len, 0:x_len,0:channels]*0))\n",
    "#     lines = np.vstack((best_r+best_l, np.zeros((60,x_len,channels))))\n",
    "#     print(lines)\n",
    "#     plt.imshow(best_r)\n",
    "    return weighted_img(img=lines,initial_img=img)\n",
    "    "
   ]
  },
  {
   "cell_type": "code",
   "execution_count": 51,
   "metadata": {},
   "outputs": [
    {
     "data": {
      "text/plain": [
       "<matplotlib.image.AxesImage at 0x7ff61f993550>"
      ]
     },
     "execution_count": 51,
     "metadata": {},
     "output_type": "execute_result"
    },
    {
     "data": {
      "image/png": "[encoded data removed]",
      "text/plain": [
       "<matplotlib.figure.Figure at 0x7ff61f62aac8>"
      ]
     },
     "metadata": {
      "needs_background": "light"
     },
     "output_type": "display_data"
    }
   ],
   "source": [
    "image1 = mpimg.imread(challenge_src +'116.jpg')\n",
    "# image1 = mpimg.imread('img_err.jpg')\n",
    "# ololo = clip3_process(image1)\n",
    "# plt.imshow(clip3_process(image1))\n",
    "y_len, x_len,channels = image1.shape\n",
    "image = image1[0:y_len-60, 0:x_len,0:channels]\n",
    "# image2 = image1[0:y_len-60, 0:x_len,0:channels]\n",
    "\n",
    "# # # plt.imshow(process_image(image))\n",
    "image = increase_contrast(image)\n",
    "fig, axs = plt.subplots(2)\n",
    "axs[0].imshow(image)\n",
    "image = get_prepared_image(image, y_correction=150, x_correction=130)\n",
    "# # # gray_img= grayscale(image)\n",
    "# # # gray_img = gaussian_blur(gray_img,11)\n",
    "# # # gray_img = canny(gray_img,10,20 )\n",
    "\n",
    "axs[1].imshow(image)\n",
    "# plt.imshow(image, cmap='gray')\n",
    "# l,r = get_lines(image)\n",
    "# r_line = get_border(r, False)\n",
    "# r_top  = (r[0][0][0],r[0][0][1])\n",
    "# l_line = get_border(l, True)\n",
    "# l_top = (l[0][0][0],l[0][0][1])\n",
    "# # draw_lines(image1,[[l_line],[r_line]],thickness=10)\n",
    "\n",
    "# # draw_lines(image1,l+r,thickness=10)\n",
    "# draw_lines(image1, [get_line(l_line,r_top, l_top,image.shape),get_line(r_line,l_top, r_top,image.shape)],thickness=10)\n",
    "# plt.imshow(image1)"
   ]
  },
  {
   "cell_type": "code",
   "execution_count": 24,
   "metadata": {},
   "outputs": [],
   "source": [
    "challenge_src = 'challenge_src/'\n",
    "challenge_rdy = 'challenge_rdy/'\n",
    "Path(challenge_src).mkdir(parents=True, exist_ok=True)\n",
    "Path(challenge_rdy).mkdir(parents=True, exist_ok=True)\n",
    "indexer = 0\n",
    "def save_img_save_process(img):\n",
    "    global indexer\n",
    "    mpimg.imsave(challenge_src + str(indexer) + '.jpg',img)\n",
    "    result = clip3_process(img)\n",
    "    mpimg.imsave(challenge_rdy + str(indexer) + '.jpg',result)\n",
    "    indexer += 1\n",
    "    return result\n",
    "    "
   ]
  },
  {
   "cell_type": "code",
   "execution_count": 37,
   "metadata": {},
   "outputs": [
    {
     "name": "stdout",
     "output_type": "stream",
     "text": [
      "[MoviePy] >>>> Building video test_videos_output/challenge.mp4\n",
      "[MoviePy] Writing video test_videos_output/challenge.mp4\n"
     ]
    },
    {
     "name": "stderr",
     "output_type": "stream",
     "text": [
      "100%|██████████| 251/251 [00:33<00:00,  7.43it/s]\n"
     ]
    },
    {
     "name": "stdout",
     "output_type": "stream",
     "text": [
      "[MoviePy] Done.\n",
      "[MoviePy] >>>> Video ready: test_videos_output/challenge.mp4 \n",
      "\n",
      "CPU times: user 8.24 s, sys: 633 ms, total: 8.87 s\n",
      "Wall time: 37.1 s\n"
     ]
    }
   ],
   "source": [
    "challenge_output = 'test_videos_output/challenge.mp4'\n",
    "## To speed up the testing process you may want to try your pipeline on a shorter subclip of the video\n",
    "## To do so add .subclip(start_second,end_second) to the end of the line below\n",
    "## Where start_second and end_second are integer values representing the start and end of the subclip\n",
    "## You may also uncomment the following line for a subclip of the first 5 seconds\n",
    "# clip3 = VideoFileClip('test_videos/challenge.mp4').subclip(1,5)\n",
    "clip3 = VideoFileClip('test_videos/challenge.mp4')\n",
    "reset_accums()\n",
    "challenge_clip = clip3.fl_image(clip3_process)\n",
    "# challenge_clip = clip3.fl_image(lambda x:plt.imshow(x) )\n",
    "# challenge_clip = clip3.fl_image(lambda x:mpimg.imsave('img_err.jpg', x) )\n",
    "\n",
    "# challenge_clip = clip3.fl_image(save_img_save_process)\n",
    "%time challenge_clip.write_videofile(challenge_output, audio=False)"
   ]
  },
  {
   "cell_type": "code",
   "execution_count": 38,
   "metadata": {},
   "outputs": [
    {
     "data": {
      "text/html": [
       "\n",
       "<video width=\"960\" height=\"540\" controls>\n",
       "  <source src=\"test_videos_output/challenge.mp4\">\n",
       "</video>\n"
      ],
      "text/plain": [
       "<IPython.core.display.HTML object>"
      ]
     },
     "execution_count": 38,
     "metadata": {},
     "output_type": "execute_result"
    }
   ],
   "source": [
    "HTML(\"\"\"\n",
    "<video width=\"960\" height=\"540\" controls>\n",
    "  <source src=\"{0}\">\n",
    "</video>\n",
    "\"\"\".format(challenge_output))"
   ]
  },
  {
   "cell_type": "code",
   "execution_count": null,
   "metadata": {},
   "outputs": [],
   "source": []
  }
 ],
 "metadata": {
  "anaconda-cloud": {},
  "kernelspec": {
   "display_name": "Python 3",
   "language": "python",
   "name": "python3"
  },
  "language_info": {
   "codemirror_mode": {
    "name": "ipython",
    "version": 3
   },
   "file_extension": ".py",
   "mimetype": "text/x-python",
   "name": "python",
   "nbconvert_exporter": "python",
   "pygments_lexer": "ipython3",
   "version": "3.6.3"
  }
 },
 "nbformat": 4,
 "nbformat_minor": 1
}
